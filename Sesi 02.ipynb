{
 "cells": [
  {
   "cell_type": "markdown",
   "id": "4ba2f131",
   "metadata": {},
   "source": [
    "# Conditional"
   ]
  },
  {
   "cell_type": "code",
   "execution_count": 57,
   "id": "7a876adb",
   "metadata": {},
   "outputs": [],
   "source": [
    "# if condition: \n",
    "#     statement"
   ]
  },
  {
   "cell_type": "code",
   "execution_count": 58,
   "id": "0abb8d5f",
   "metadata": {},
   "outputs": [
    {
     "name": "stdout",
     "output_type": "stream",
     "text": [
      "yes\n"
     ]
    }
   ],
   "source": [
    "x = 0 \n",
    "y = 5\n",
    "\n",
    "if x < y: \n",
    "    print ('yes')"
   ]
  },
  {
   "cell_type": "code",
   "execution_count": 59,
   "id": "c29b4968",
   "metadata": {},
   "outputs": [],
   "source": [
    "if x: \n",
    "    print('yes')"
   ]
  },
  {
   "cell_type": "code",
   "execution_count": 60,
   "id": "b699100d",
   "metadata": {},
   "outputs": [
    {
     "name": "stdout",
     "output_type": "stream",
     "text": [
      "yes\n",
      "another activity\n",
      "another activity 1\n",
      "another activity 2\n",
      "this is outside of the if statement, karena indentnya udah diapus\n"
     ]
    }
   ],
   "source": [
    "if y: \n",
    "    print('yes')\n",
    "    print('another activity')\n",
    "    print('another activity 1')\n",
    "    print('another activity 2')\n",
    "    \n",
    "print('this is outside of the if statement, karena indentnya udah diapus')"
   ]
  },
  {
   "cell_type": "code",
   "execution_count": 61,
   "id": "961fd8b0",
   "metadata": {},
   "outputs": [],
   "source": [
    "# False = 0\n",
    "# True = 1"
   ]
  },
  {
   "cell_type": "code",
   "execution_count": 62,
   "id": "770b66d0",
   "metadata": {},
   "outputs": [
    {
     "name": "stdout",
     "output_type": "stream",
     "text": [
      "Outer condition is true\n",
      "Between inner condition\n",
      "inner condition 2\n",
      "end of outer condition\n",
      "After outer condition\n"
     ]
    }
   ],
   "source": [
    "if 'foo' in ('foo', 'bar', 'baz'): #True #Kalau ga ada foo nya nanti ga ke print\n",
    "    print ('Outer condition is true')\n",
    "    \n",
    "    if 10 > 20: #kalau kondisi tidak terpenuhi tidak akan terprint\n",
    "        print(\"inner condition 1\") \n",
    "        \n",
    "    print('Between inner condition')\n",
    "        \n",
    "    if 10 < 20: \n",
    "        print('inner condition 2')\n",
    "            \n",
    "    print('end of outer condition')\n",
    "        \n",
    "print('After outer condition')"
   ]
  },
  {
   "cell_type": "markdown",
   "id": "fb59911f",
   "metadata": {},
   "source": [
    "# Else and Elif Clauses"
   ]
  },
  {
   "cell_type": "code",
   "execution_count": 63,
   "id": "f23cb482",
   "metadata": {},
   "outputs": [],
   "source": [
    "# if hujan: \n",
    "#     tidak keluar rumah\n",
    "# else: \n",
    "#     bermain di luar rumah"
   ]
  },
  {
   "cell_type": "code",
   "execution_count": 64,
   "id": "40479e17",
   "metadata": {},
   "outputs": [
    {
     "name": "stdout",
     "output_type": "stream",
     "text": [
      "(first suite)\n",
      "x is small\n"
     ]
    }
   ],
   "source": [
    "x = 20\n",
    "\n",
    "if x < 50: \n",
    "    print('(first suite)')\n",
    "    print('x is small')\n",
    "else: \n",
    "    print('(second suite)')\n",
    "    print('x is large')"
   ]
  },
  {
   "cell_type": "code",
   "execution_count": 65,
   "id": "cc39b182",
   "metadata": {},
   "outputs": [
    {
     "name": "stdout",
     "output_type": "stream",
     "text": [
      "uang tidak cukup\n"
     ]
    }
   ],
   "source": [
    "hargaBuku = 20000\n",
    "hargaMajalah = 5000\n",
    "uang = 2000\n",
    "\n",
    "if uang > hargaBuku: \n",
    "    print('beli buku')\n",
    "else: \n",
    "    print(\"uang tidak cukup\")"
   ]
  },
  {
   "cell_type": "code",
   "execution_count": 66,
   "id": "a4d3a33a",
   "metadata": {},
   "outputs": [
    {
     "name": "stdout",
     "output_type": "stream",
     "text": [
      "beli majalah\n"
     ]
    }
   ],
   "source": [
    "hargaBuku = 20000\n",
    "hargaMajalah = 5000\n",
    "uang = 10000\n",
    "\n",
    "if uang > hargaBuku: \n",
    "    print('beli buku')\n",
    "    \n",
    "elif uang > hargaMajalah: \n",
    "    print('beli majalah')\n",
    "\n",
    "else: \n",
    "    print(\"uang tidak cukup\")"
   ]
  },
  {
   "cell_type": "code",
   "execution_count": 67,
   "id": "cef6a092",
   "metadata": {},
   "outputs": [
    {
     "name": "stdout",
     "output_type": "stream",
     "text": [
      "Hello Hacktiv8\n"
     ]
    }
   ],
   "source": [
    "name = 'Hacktiv8'\n",
    "\n",
    "if name == 'Fred':\n",
    "    print('Hello Fred')\n",
    "elif name == 'Xander':\n",
    "    print('Hello Xander')\n",
    "elif name == 'Hacktiv8':\n",
    "    print('Hello Hacktiv8')\n",
    "elif name == 'Arnold':\n",
    "    print('Hello Arnold')\n",
    "else: \n",
    "    print('I dont know who you are!')"
   ]
  },
  {
   "cell_type": "code",
   "execution_count": 68,
   "id": "32a5bf4f",
   "metadata": {},
   "outputs": [
    {
     "name": "stdout",
     "output_type": "stream",
     "text": [
      "foo\n"
     ]
    }
   ],
   "source": [
    "if 'a' in 'bar': #True\n",
    "    print('foo')\n",
    "elif 1/0:\n",
    "    print('This will not happen')\n",
    "elif var:\n",
    "    print('This will not either')"
   ]
  },
  {
   "cell_type": "markdown",
   "id": "d5cfa8c4",
   "metadata": {},
   "source": [
    "# One-line if statements"
   ]
  },
  {
   "cell_type": "code",
   "execution_count": 69,
   "id": "49a68909",
   "metadata": {},
   "outputs": [
    {
     "name": "stdout",
     "output_type": "stream",
     "text": [
      "1\n",
      "2\n",
      "3\n"
     ]
    }
   ],
   "source": [
    "if 'f' in 'foo': print('1'); print('2'); print('3')"
   ]
  },
  {
   "cell_type": "code",
   "execution_count": 70,
   "id": "56304c83",
   "metadata": {},
   "outputs": [
    {
     "name": "stdout",
     "output_type": "stream",
     "text": [
      "1\n",
      "2\n",
      "3\n"
     ]
    }
   ],
   "source": [
    "if 'f' in 'foo': \n",
    "    print('1')\n",
    "    print('2')\n",
    "    print('3')"
   ]
  },
  {
   "cell_type": "code",
   "execution_count": 71,
   "id": "6a9108ac",
   "metadata": {},
   "outputs": [
    {
     "name": "stdout",
     "output_type": "stream",
     "text": [
      "qux\n",
      "quux\n",
      "qq\n"
     ]
    }
   ],
   "source": [
    "x = 2\n",
    "if x == 1: print('foo'); print('bar'); print('baz')\n",
    "elif x == 2: print('qux'); print('quux'); print('qq')\n",
    "else: print('corge'); print('grault')"
   ]
  },
  {
   "cell_type": "code",
   "execution_count": 72,
   "id": "d650a121",
   "metadata": {},
   "outputs": [
    {
     "name": "stdout",
     "output_type": "stream",
     "text": [
      "qux\n",
      "quux\n",
      "qq\n"
     ]
    }
   ],
   "source": [
    "x = 2\n",
    "if x == 1: \n",
    "    print('foo') \n",
    "    print('bar')\n",
    "    print('baz')\n",
    "elif x == 2: \n",
    "    print('qux') \n",
    "    print('quux') \n",
    "    print('qq')\n",
    "else: \n",
    "    print('corge') \n",
    "    print('grault')"
   ]
  },
  {
   "cell_type": "markdown",
   "id": "49b20649",
   "metadata": {},
   "source": [
    "# Conditional Expressions"
   ]
  },
  {
   "cell_type": "code",
   "execution_count": 73,
   "id": "a8fab118",
   "metadata": {},
   "outputs": [
    {
     "name": "stdout",
     "output_type": "stream",
     "text": [
      "Let's go to the library\n"
     ]
    }
   ],
   "source": [
    "raining = False\n",
    "\n",
    "print(\"Let's go to the\", \"beach\" if raining else \"library\")"
   ]
  },
  {
   "cell_type": "code",
   "execution_count": 74,
   "id": "151c10a8",
   "metadata": {},
   "outputs": [
    {
     "data": {
      "text/plain": [
       "'teen'"
      ]
     },
     "execution_count": 74,
     "metadata": {},
     "output_type": "execute_result"
    }
   ],
   "source": [
    "age = 12\n",
    "\n",
    "s = 'teen' if age < 21 else 'adult'\n",
    "\n",
    "s"
   ]
  },
  {
   "cell_type": "code",
   "execution_count": 75,
   "id": "006c8b01",
   "metadata": {},
   "outputs": [
    {
     "data": {
      "text/plain": [
       "'no'"
      ]
     },
     "execution_count": 75,
     "metadata": {},
     "output_type": "execute_result"
    }
   ],
   "source": [
    "'yes' if ('qux' in ('foo', 'bar', 'baz')) else 'no'"
   ]
  },
  {
   "cell_type": "code",
   "execution_count": 76,
   "id": "f681925e",
   "metadata": {},
   "outputs": [],
   "source": [
    "# m = a if a > b else b"
   ]
  },
  {
   "cell_type": "code",
   "execution_count": 77,
   "id": "bf9e831a",
   "metadata": {},
   "outputs": [],
   "source": [
    "# if a > b: \n",
    "#     m = a\n",
    "# else: \n",
    "#     m = b"
   ]
  },
  {
   "cell_type": "markdown",
   "id": "73c36854",
   "metadata": {},
   "source": [
    "# Pass Statement"
   ]
  },
  {
   "cell_type": "code",
   "execution_count": 78,
   "id": "18260b04",
   "metadata": {},
   "outputs": [
    {
     "name": "stdout",
     "output_type": "stream",
     "text": [
      "foo\n"
     ]
    }
   ],
   "source": [
    "if True: \n",
    "    print('foo')"
   ]
  },
  {
   "cell_type": "code",
   "execution_count": 79,
   "id": "a00f4f7e",
   "metadata": {},
   "outputs": [],
   "source": [
    "if False: \n",
    "    print('foo')"
   ]
  },
  {
   "cell_type": "markdown",
   "id": "9e9fe5c4",
   "metadata": {},
   "source": [
    "# Iteration"
   ]
  },
  {
   "cell_type": "code",
   "execution_count": 80,
   "id": "6dfc34d6",
   "metadata": {},
   "outputs": [],
   "source": [
    "# while condition: \n",
    "#     statement"
   ]
  },
  {
   "cell_type": "code",
   "execution_count": 81,
   "id": "7c56009b",
   "metadata": {},
   "outputs": [
    {
     "name": "stdout",
     "output_type": "stream",
     "text": [
      "4\n",
      "3\n",
      "2\n",
      "1\n",
      "0\n"
     ]
    }
   ],
   "source": [
    "n = 5\n",
    "while n > 0:\n",
    "    n -= 1 #n = n - 1\n",
    "    print(n)"
   ]
  },
  {
   "cell_type": "code",
   "execution_count": 82,
   "id": "d68d4444",
   "metadata": {},
   "outputs": [],
   "source": [
    "# i = 1\n",
    "\n",
    "# while 1 < 6:\n",
    "#     print(i)\n",
    "#     i += 1"
   ]
  },
  {
   "cell_type": "markdown",
   "id": "feaa01ef",
   "metadata": {},
   "source": [
    "# The Python Break and Continue Statements"
   ]
  },
  {
   "cell_type": "code",
   "execution_count": 83,
   "id": "1b6f0014",
   "metadata": {},
   "outputs": [
    {
     "name": "stdout",
     "output_type": "stream",
     "text": [
      "9\n",
      "8\n",
      "7\n",
      "6\n",
      "5\n",
      "4\n",
      "3\n",
      "Loop ended.\n"
     ]
    }
   ],
   "source": [
    "n = 10\n",
    "\n",
    "while n > 0: \n",
    "    n -= 1\n",
    "    if n == 2:\n",
    "        break\n",
    "    print(n)\n",
    "        \n",
    "print('Loop ended.')"
   ]
  },
  {
   "cell_type": "markdown",
   "id": "bea6dece",
   "metadata": {},
   "source": [
    "# Else Clause "
   ]
  },
  {
   "cell_type": "code",
   "execution_count": 84,
   "id": "aaace066",
   "metadata": {},
   "outputs": [
    {
     "name": "stdout",
     "output_type": "stream",
     "text": [
      "4\n",
      "3\n",
      "2\n",
      "1\n",
      "0\n",
      "Loop Done.\n"
     ]
    }
   ],
   "source": [
    "n = 5\n",
    "\n",
    "while n > 0:\n",
    "    n -= 1\n",
    "    print(n)\n",
    "else: \n",
    "    print('Loop Done.')"
   ]
  },
  {
   "cell_type": "markdown",
   "id": "3d6f8512",
   "metadata": {},
   "source": [
    "# Infinite Loops"
   ]
  },
  {
   "cell_type": "code",
   "execution_count": 85,
   "id": "3547bc79",
   "metadata": {},
   "outputs": [],
   "source": [
    "# while True:\n",
    "#     print('foo')"
   ]
  },
  {
   "cell_type": "markdown",
   "id": "a4febc1d",
   "metadata": {},
   "source": [
    "# Nested Loops"
   ]
  },
  {
   "cell_type": "code",
   "execution_count": 86,
   "id": "0fcc38b5",
   "metadata": {},
   "outputs": [
    {
     "name": "stdout",
     "output_type": "stream",
     "text": [
      "grandmother\n"
     ]
    }
   ],
   "source": [
    "age = 100\n",
    "gender = 'F'\n",
    "\n",
    "if age < 18:\n",
    "    if gender == \"M\":\n",
    "        print('son')\n",
    "    else:\n",
    "        print('daughter')\n",
    "elif age >= 18 and age < 65:\n",
    "    if gender == \"M\":\n",
    "        print(\"father\")\n",
    "    else:\n",
    "        print(\"mother\")\n",
    "else: \n",
    "    if gender == \"M\":\n",
    "        print('grandfather')\n",
    "    else: \n",
    "        print('grandmother')"
   ]
  },
  {
   "cell_type": "code",
   "execution_count": 87,
   "id": "06105987",
   "metadata": {},
   "outputs": [
    {
     "name": "stdout",
     "output_type": "stream",
     "text": [
      "foo\n",
      "> baz\n",
      "> qux\n",
      "bar\n",
      "> baz\n",
      "> qux\n"
     ]
    }
   ],
   "source": [
    "a = ['foo', 'bar']\n",
    "\n",
    "while len(a):\n",
    "    print(a.pop(0))\n",
    "    \n",
    "    b = ['baz', 'qux']\n",
    "    \n",
    "    while len(b):\n",
    "        print('>', b.pop(0))"
   ]
  },
  {
   "cell_type": "code",
   "execution_count": 88,
   "id": "d65b706e",
   "metadata": {},
   "outputs": [
    {
     "data": {
      "text/plain": [
       "2"
      ]
     },
     "execution_count": 88,
     "metadata": {},
     "output_type": "execute_result"
    }
   ],
   "source": [
    "a = ['foo', 'bar']\n",
    "\n",
    "len(a)"
   ]
  },
  {
   "cell_type": "markdown",
   "id": "22446609",
   "metadata": {},
   "source": [
    "# One-line while loops"
   ]
  },
  {
   "cell_type": "code",
   "execution_count": 89,
   "id": "05318d34",
   "metadata": {},
   "outputs": [
    {
     "name": "stdout",
     "output_type": "stream",
     "text": [
      "4\n",
      "3\n",
      "2\n",
      "1\n",
      "0\n"
     ]
    }
   ],
   "source": [
    "n = 5\n",
    "while n > 0: n -= 1; print(n)"
   ]
  },
  {
   "cell_type": "markdown",
   "id": "16b1fc56",
   "metadata": {},
   "source": [
    "# Python for Loop"
   ]
  },
  {
   "cell_type": "code",
   "execution_count": 90,
   "id": "d53c6eb3",
   "metadata": {},
   "outputs": [],
   "source": [
    "a = ['foo', 'bar', 'baz']"
   ]
  },
  {
   "cell_type": "code",
   "execution_count": 91,
   "id": "d010f31f",
   "metadata": {},
   "outputs": [
    {
     "data": {
      "text/plain": [
       "['foo', 'bar', 'baz']"
      ]
     },
     "execution_count": 91,
     "metadata": {},
     "output_type": "execute_result"
    }
   ],
   "source": [
    "a"
   ]
  },
  {
   "cell_type": "code",
   "execution_count": 92,
   "id": "7b486409",
   "metadata": {},
   "outputs": [
    {
     "name": "stdout",
     "output_type": "stream",
     "text": [
      "foo\n",
      "bar\n",
      "baz\n"
     ]
    }
   ],
   "source": [
    "a = ['foo', 'bar', 'baz']\n",
    "\n",
    "for i in a:\n",
    "    print(i)"
   ]
  },
  {
   "cell_type": "code",
   "execution_count": 93,
   "id": "ee69af9a",
   "metadata": {},
   "outputs": [
    {
     "name": "stdout",
     "output_type": "stream",
     "text": [
      "foo\n",
      "bar\n",
      "baz\n"
     ]
    }
   ],
   "source": [
    "d = {'foo':1, 'bar':2, 'baz':3}\n",
    "\n",
    "for k in d:\n",
    "    print(k)"
   ]
  },
  {
   "cell_type": "code",
   "execution_count": 94,
   "id": "c92154b5",
   "metadata": {},
   "outputs": [
    {
     "name": "stdout",
     "output_type": "stream",
     "text": [
      "1\n",
      "2\n",
      "3\n"
     ]
    }
   ],
   "source": [
    "d = {'foo':1, 'bar':2, 'baz':3}\n",
    "\n",
    "for k in d:\n",
    "    print(d[k])"
   ]
  },
  {
   "cell_type": "code",
   "execution_count": 95,
   "id": "87ee67f2",
   "metadata": {},
   "outputs": [
    {
     "name": "stdout",
     "output_type": "stream",
     "text": [
      "1\n",
      "2\n",
      "3\n"
     ]
    }
   ],
   "source": [
    "for k in d.values():\n",
    "    print(k)"
   ]
  },
  {
   "cell_type": "code",
   "execution_count": 96,
   "id": "e76d320c",
   "metadata": {},
   "outputs": [
    {
     "data": {
      "text/plain": [
       "dict_values([1, 2, 3])"
      ]
     },
     "execution_count": 96,
     "metadata": {},
     "output_type": "execute_result"
    }
   ],
   "source": [
    "d.values()"
   ]
  },
  {
   "cell_type": "code",
   "execution_count": 97,
   "id": "7ce46345",
   "metadata": {},
   "outputs": [
    {
     "data": {
      "text/plain": [
       "dict_items([('foo', 1), ('bar', 2), ('baz', 3)])"
      ]
     },
     "execution_count": 97,
     "metadata": {},
     "output_type": "execute_result"
    }
   ],
   "source": [
    "d.items()"
   ]
  },
  {
   "cell_type": "code",
   "execution_count": 98,
   "id": "5397569c",
   "metadata": {},
   "outputs": [
    {
     "name": "stdout",
     "output_type": "stream",
     "text": [
      "foo : 1\n",
      "bar : 2\n",
      "baz : 3\n"
     ]
    }
   ],
   "source": [
    "for k, v in d.items():\n",
    "    print(k, \":\", v)"
   ]
  },
  {
   "cell_type": "markdown",
   "id": "b9804709",
   "metadata": {},
   "source": [
    "# The range() function"
   ]
  },
  {
   "cell_type": "code",
   "execution_count": 99,
   "id": "4d146be5",
   "metadata": {},
   "outputs": [
    {
     "name": "stdout",
     "output_type": "stream",
     "text": [
      "0\n",
      "1\n",
      "2\n",
      "3\n",
      "4\n"
     ]
    }
   ],
   "source": [
    "for n in (0, 1, 2, 3, 4):\n",
    "    print(n)"
   ]
  },
  {
   "cell_type": "code",
   "execution_count": 100,
   "id": "50dc8cc5",
   "metadata": {},
   "outputs": [
    {
     "data": {
      "text/plain": [
       "range(0, 5)"
      ]
     },
     "execution_count": 100,
     "metadata": {},
     "output_type": "execute_result"
    }
   ],
   "source": [
    "x = range(5)\n",
    "x"
   ]
  },
  {
   "cell_type": "code",
   "execution_count": 101,
   "id": "af690dd4",
   "metadata": {},
   "outputs": [
    {
     "name": "stdout",
     "output_type": "stream",
     "text": [
      "0\n",
      "1\n",
      "2\n",
      "3\n",
      "4\n"
     ]
    }
   ],
   "source": [
    "for n in x:\n",
    "    print(n)"
   ]
  },
  {
   "cell_type": "code",
   "execution_count": 102,
   "id": "9f2896e4",
   "metadata": {},
   "outputs": [
    {
     "name": "stdout",
     "output_type": "stream",
     "text": [
      "0\n",
      "1\n",
      "2\n",
      "3\n",
      "4\n"
     ]
    }
   ],
   "source": [
    "for n in range(5):\n",
    "    print (n)"
   ]
  },
  {
   "cell_type": "markdown",
   "id": "c73f1419",
   "metadata": {},
   "source": [
    "# Altering for Loop Behavior"
   ]
  },
  {
   "cell_type": "code",
   "execution_count": 103,
   "id": "ab99a5c9",
   "metadata": {},
   "outputs": [
    {
     "name": "stdout",
     "output_type": "stream",
     "text": [
      "foo\n"
     ]
    }
   ],
   "source": [
    "for i in ['foo', 'bar', 'baz', 'qux']:\n",
    "    if 'b' in i:\n",
    "        break\n",
    "    print(i)"
   ]
  },
  {
   "cell_type": "code",
   "execution_count": 104,
   "id": "bd37e736",
   "metadata": {},
   "outputs": [
    {
     "name": "stdout",
     "output_type": "stream",
     "text": [
      "foo\n",
      "qux\n"
     ]
    }
   ],
   "source": [
    "for i in ['foo', 'bar', 'baz', 'qux']:\n",
    "    if 'b' in i:\n",
    "        continue\n",
    "    print(i)"
   ]
  },
  {
   "cell_type": "code",
   "execution_count": 105,
   "id": "4657cc77",
   "metadata": {},
   "outputs": [
    {
     "data": {
      "text/plain": [
       "'foo'"
      ]
     },
     "execution_count": 105,
     "metadata": {},
     "output_type": "execute_result"
    }
   ],
   "source": [
    "a = ['foo', 'bar', 'baz', 'qux']\n",
    "\n",
    "a.pop(0)"
   ]
  },
  {
   "cell_type": "code",
   "execution_count": 106,
   "id": "cd242e3b",
   "metadata": {},
   "outputs": [
    {
     "data": {
      "text/plain": [
       "['bar', 'baz', 'qux']"
      ]
     },
     "execution_count": 106,
     "metadata": {},
     "output_type": "execute_result"
    }
   ],
   "source": [
    "a"
   ]
  },
  {
   "cell_type": "code",
   "execution_count": 107,
   "id": "eb382c26",
   "metadata": {},
   "outputs": [
    {
     "data": {
      "text/plain": [
       "'qux'"
      ]
     },
     "execution_count": 107,
     "metadata": {},
     "output_type": "execute_result"
    }
   ],
   "source": [
    "a.pop(-1) #sama kyk del trus print"
   ]
  },
  {
   "cell_type": "code",
   "execution_count": 108,
   "id": "5a0ed451",
   "metadata": {},
   "outputs": [
    {
     "data": {
      "text/plain": [
       "['bar', 'baz']"
      ]
     },
     "execution_count": 108,
     "metadata": {},
     "output_type": "execute_result"
    }
   ],
   "source": [
    "a"
   ]
  },
  {
   "cell_type": "code",
   "execution_count": 109,
   "id": "a7483e80",
   "metadata": {},
   "outputs": [
    {
     "name": "stdout",
     "output_type": "stream",
     "text": [
      "foo\n",
      "bar\n",
      "baz\n",
      "qux\n",
      "Done.\n"
     ]
    }
   ],
   "source": [
    "for i in ['foo', 'bar', 'baz', 'qux']:\n",
    "    print(i)\n",
    "else:\n",
    "    print('Done.')"
   ]
  },
  {
   "cell_type": "code",
   "execution_count": 110,
   "id": "b3155f30",
   "metadata": {},
   "outputs": [
    {
     "name": "stdout",
     "output_type": "stream",
     "text": [
      "Ketikan temperatur yang ingin dikonversi, e.g.: 45F, 120C: 45F\n",
      "Temperaturnya adalah 7 derajat\n"
     ]
    }
   ],
   "source": [
    "temp = input(\"Ketikan temperatur yang ingin dikonversi, e.g.: 45F, 120C: \")\n",
    "\n",
    "degree = int(temp[:-1])\n",
    "i_convertion = temp[-1]\n",
    "\n",
    "if i_convertion == \"C\":\n",
    "    result = int(round((9 * degree) / 5 + 32))\n",
    "elif i_convertion == \"F\":\n",
    "    result = int(round((degree - 32) * 5 / 9))\n",
    "else: \n",
    "    print(\"Masukkan input yang benar\")\n",
    "    \n",
    "print(\"Temperaturnya adalah\", result, \"derajat\")"
   ]
  },
  {
   "cell_type": "code",
   "execution_count": 111,
   "id": "90f122f5",
   "metadata": {},
   "outputs": [
    {
     "name": "stdout",
     "output_type": "stream",
     "text": [
      "Ketikkan karakter: HACKTIV8\n",
      "hacktiv8\n",
      "Ketikkan karakter: stop\n",
      "stop\n"
     ]
    }
   ],
   "source": [
    "while True: \n",
    "    msg = input(\"Ketikkan karakter: \").lower()\n",
    "    print(msg)\n",
    "    if msg == \"stop\":\n",
    "        break"
   ]
  }
 ],
 "metadata": {
  "kernelspec": {
   "display_name": "Python 3 (ipykernel)",
   "language": "python",
   "name": "python3"
  },
  "language_info": {
   "codemirror_mode": {
    "name": "ipython",
    "version": 3
   },
   "file_extension": ".py",
   "mimetype": "text/x-python",
   "name": "python",
   "nbconvert_exporter": "python",
   "pygments_lexer": "ipython3",
   "version": "3.9.7"
  },
  "toc": {
   "base_numbering": 1,
   "nav_menu": {},
   "number_sections": true,
   "sideBar": true,
   "skip_h1_title": false,
   "title_cell": "Table of Contents",
   "title_sidebar": "Contents",
   "toc_cell": false,
   "toc_position": {},
   "toc_section_display": true,
   "toc_window_display": false
  },
  "vscode": {
   "interpreter": {
    "hash": "f08154012ddadd8e950e6e9e035c7a7b32c136e7647e9b7c77e02eb723a8bedb"
   }
  }
 },
 "nbformat": 4,
 "nbformat_minor": 5
}
